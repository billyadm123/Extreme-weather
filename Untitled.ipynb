{
 "cells": [
  {
   "cell_type": "code",
   "execution_count": 1,
   "metadata": {},
   "outputs": [
    {
     "name": "stderr",
     "output_type": "stream",
     "text": [
      "C:\\Users\\willi\\Anaconda3\\lib\\site-packages\\statsmodels\\tools\\_testing.py:19: FutureWarning: pandas.util.testing is deprecated. Use the functions in the public API at pandas.testing instead.\n",
      "  import pandas.util.testing as tm\n"
     ]
    }
   ],
   "source": [
    "import matplotlib.pyplot as plt\n",
    "plt.style.use('ggplot')\n",
    "%matplotlib inline\n",
    "import seaborn as sns\n",
    "import pandas as pd"
   ]
  },
  {
   "cell_type": "code",
   "execution_count": 2,
   "metadata": {},
   "outputs": [],
   "source": [
    "df = pd.DataFrame.from_dict({\n",
    "                'Year': [2006,2018,2019,2020,2021],\n",
    "                'Thunderstorm':[13888,14620,18635,19313,124],\n",
    "                'Hail':[16656,7863,9015,7668,80],\n",
    "                'Drought':[2835,2417,1007,2244,562],\n",
    "                'Wildfire':[419,417,197,397,14],\n",
    "                'Flash Flood':[2641,4378,4093,3571,106],\n",
    "                'Excessive Heat':[0,668,889,520,0],\n",
    "                'Marine Thunderstorm Wind':[1131,2090,2502,2887,73]})"
   ]
  },
  {
   "cell_type": "code",
   "execution_count": 3,
   "metadata": {},
   "outputs": [
    {
     "data": {
      "text/html": [
       "<div>\n",
       "<style scoped>\n",
       "    .dataframe tbody tr th:only-of-type {\n",
       "        vertical-align: middle;\n",
       "    }\n",
       "\n",
       "    .dataframe tbody tr th {\n",
       "        vertical-align: top;\n",
       "    }\n",
       "\n",
       "    .dataframe thead th {\n",
       "        text-align: right;\n",
       "    }\n",
       "</style>\n",
       "<table border=\"1\" class=\"dataframe\">\n",
       "  <thead>\n",
       "    <tr style=\"text-align: right;\">\n",
       "      <th></th>\n",
       "      <th>Year</th>\n",
       "      <th>Thunderstorm</th>\n",
       "      <th>Hail</th>\n",
       "      <th>Drought</th>\n",
       "      <th>Wildfire</th>\n",
       "      <th>Flash Flood</th>\n",
       "      <th>Excessive Heat</th>\n",
       "      <th>Marine Thunderstorm Wind</th>\n",
       "    </tr>\n",
       "  </thead>\n",
       "  <tbody>\n",
       "    <tr>\n",
       "      <th>0</th>\n",
       "      <td>2006</td>\n",
       "      <td>13888</td>\n",
       "      <td>16656</td>\n",
       "      <td>2835</td>\n",
       "      <td>419</td>\n",
       "      <td>2641</td>\n",
       "      <td>0</td>\n",
       "      <td>1131</td>\n",
       "    </tr>\n",
       "    <tr>\n",
       "      <th>1</th>\n",
       "      <td>2018</td>\n",
       "      <td>14620</td>\n",
       "      <td>7863</td>\n",
       "      <td>2417</td>\n",
       "      <td>417</td>\n",
       "      <td>4378</td>\n",
       "      <td>668</td>\n",
       "      <td>2090</td>\n",
       "    </tr>\n",
       "    <tr>\n",
       "      <th>2</th>\n",
       "      <td>2019</td>\n",
       "      <td>18635</td>\n",
       "      <td>9015</td>\n",
       "      <td>1007</td>\n",
       "      <td>197</td>\n",
       "      <td>4093</td>\n",
       "      <td>889</td>\n",
       "      <td>2502</td>\n",
       "    </tr>\n",
       "    <tr>\n",
       "      <th>3</th>\n",
       "      <td>2020</td>\n",
       "      <td>19313</td>\n",
       "      <td>7668</td>\n",
       "      <td>2244</td>\n",
       "      <td>397</td>\n",
       "      <td>3571</td>\n",
       "      <td>520</td>\n",
       "      <td>2887</td>\n",
       "    </tr>\n",
       "    <tr>\n",
       "      <th>4</th>\n",
       "      <td>2021</td>\n",
       "      <td>124</td>\n",
       "      <td>80</td>\n",
       "      <td>562</td>\n",
       "      <td>14</td>\n",
       "      <td>106</td>\n",
       "      <td>0</td>\n",
       "      <td>73</td>\n",
       "    </tr>\n",
       "  </tbody>\n",
       "</table>\n",
       "</div>"
      ],
      "text/plain": [
       "   Year  Thunderstorm   Hail  Drought  Wildfire  Flash Flood  Excessive Heat  \\\n",
       "0  2006         13888  16656     2835       419         2641               0   \n",
       "1  2018         14620   7863     2417       417         4378             668   \n",
       "2  2019         18635   9015     1007       197         4093             889   \n",
       "3  2020         19313   7668     2244       397         3571             520   \n",
       "4  2021           124     80      562        14          106               0   \n",
       "\n",
       "   Marine Thunderstorm Wind  \n",
       "0                      1131  \n",
       "1                      2090  \n",
       "2                      2502  \n",
       "3                      2887  \n",
       "4                        73  "
      ]
     },
     "execution_count": 3,
     "metadata": {},
     "output_type": "execute_result"
    }
   ],
   "source": [
    "df"
   ]
  },
  {
   "cell_type": "code",
   "execution_count": 4,
   "metadata": {},
   "outputs": [],
   "source": [
    "from prettytable import PrettyTable\n",
    "  "
   ]
  },
  {
   "cell_type": "code",
   "execution_count": 5,
   "metadata": {},
   "outputs": [],
   "source": [
    "myTable = PrettyTable([\"Year\", \"Thunderstorm\", \"Hail\", \"Drought\", 'Wildfire', 'Flash Flood', 'Excessive Heat', \n",
    "                       'Marine Thunderstorm Wind'])"
   ]
  },
  {
   "cell_type": "code",
   "execution_count": 6,
   "metadata": {},
   "outputs": [],
   "source": [
    "myTable.add_row(['2006', '13888', '16656','2835','419','2641','0','1131'])\n",
    "myTable.add_row(['2018', '14629', '7863','2417','417','4378','668','2090'])\n",
    "myTable.add_row(['2019', '18635', '9015','1007','197','4093','889','2502'])\n",
    "myTable.add_row(['2020', '19313', '7668','2244','397','3571','520','2887'])\n",
    "myTable.add_row(['2021', '124', '80','562','14','106','0','73'])"
   ]
  },
  {
   "cell_type": "code",
   "execution_count": 7,
   "metadata": {},
   "outputs": [
    {
     "name": "stdout",
     "output_type": "stream",
     "text": [
      "+------+--------------+-------+---------+----------+-------------+----------------+--------------------------+\n",
      "| Year | Thunderstorm |  Hail | Drought | Wildfire | Flash Flood | Excessive Heat | Marine Thunderstorm Wind |\n",
      "+------+--------------+-------+---------+----------+-------------+----------------+--------------------------+\n",
      "| 2006 |    13888     | 16656 |   2835  |   419    |     2641    |       0        |           1131           |\n",
      "| 2018 |    14629     |  7863 |   2417  |   417    |     4378    |      668       |           2090           |\n",
      "| 2019 |    18635     |  9015 |   1007  |   197    |     4093    |      889       |           2502           |\n",
      "| 2020 |    19313     |  7668 |   2244  |   397    |     3571    |      520       |           2887           |\n",
      "| 2021 |     124      |   80  |   562   |    14    |     106     |       0        |            73            |\n",
      "+------+--------------+-------+---------+----------+-------------+----------------+--------------------------+\n"
     ]
    }
   ],
   "source": [
    "print(myTable)"
   ]
  },
  {
   "cell_type": "code",
   "execution_count": null,
   "metadata": {},
   "outputs": [],
   "source": []
  },
  {
   "cell_type": "code",
   "execution_count": null,
   "metadata": {},
   "outputs": [],
   "source": []
  },
  {
   "cell_type": "code",
   "execution_count": null,
   "metadata": {},
   "outputs": [],
   "source": []
  },
  {
   "cell_type": "code",
   "execution_count": null,
   "metadata": {},
   "outputs": [],
   "source": []
  },
  {
   "cell_type": "code",
   "execution_count": 8,
   "metadata": {},
   "outputs": [],
   "source": [
    "x_ticks = [2006,2018,2019,2020,2021]"
   ]
  },
  {
   "cell_type": "code",
   "execution_count": 9,
   "metadata": {},
   "outputs": [
    {
     "data": {
      "image/png": "[encoded data removed]",
      "text/plain": [
       "<Figure size 720x360 with 1 Axes>"
      ]
     },
     "metadata": {
      "needs_background": "light"
     },
     "output_type": "display_data"
    }
   ],
   "source": [
    "plt.figure(figsize=(10,5))\n",
    "plt.bar(x=df['Year'], height=df['Thunderstorm'])\n",
    "plt.title('Thunderstorms', fontweight='bold')\n",
    "plt.ylabel('Occurences in Dataset', fontweight='bold')\n",
    "plt.yticks(fontweight='bold')\n",
    "plt.xlabel(\"Year\", fontweight='bold')\n",
    "plt.xticks(x_ticks, fontweight='bold')\n",
    "plt.show()"
   ]
  }
 ],
 "metadata": {
  "kernelspec": {
   "display_name": "Python 3",
   "language": "python",
   "name": "python3"
  },
  "language_info": {
   "codemirror_mode": {
    "name": "ipython",
    "version": 3
   },
   "file_extension": ".py",
   "mimetype": "text/x-python",
   "name": "python",
   "nbconvert_exporter": "python",
   "pygments_lexer": "ipython3",
   "version": "3.7.4"
  }
 },
 "nbformat": 4,
 "nbformat_minor": 2
}
